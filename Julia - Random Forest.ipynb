{
 "cells": [
  {
   "cell_type": "code",
   "execution_count": 1,
   "metadata": {
    "collapsed": false
   },
   "outputs": [],
   "source": [
    "using Images, Colors, DecisionTree, DataFrames"
   ]
  },
  {
   "cell_type": "code",
   "execution_count": 2,
   "metadata": {
    "collapsed": false
   },
   "outputs": [
    {
     "data": {
      "text/plain": [
       "400"
      ]
     },
     "execution_count": 2,
     "metadata": {},
     "output_type": "execute_result"
    }
   ],
   "source": [
    "imageSize = 400"
   ]
  },
  {
   "cell_type": "code",
   "execution_count": 3,
   "metadata": {
    "collapsed": false
   },
   "outputs": [
    {
     "data": {
      "text/plain": [
       "\"./images\""
      ]
     },
     "execution_count": 3,
     "metadata": {},
     "output_type": "execute_result"
    }
   ],
   "source": [
    "path = \"./images\""
   ]
  },
  {
   "cell_type": "code",
   "execution_count": 4,
   "metadata": {
    "collapsed": false
   },
   "outputs": [
    {
     "data": {
      "text/plain": [
       "read_data (generic function with 1 method)"
      ]
     },
     "execution_count": 4,
     "metadata": {},
     "output_type": "execute_result"
    }
   ],
   "source": [
    "function read_data(typeData, labelsInfo, imageSize, path)\n",
    "    x = zeros(size(labelsInfo, 1), imageSize)\n",
    "    for (index, idImage) in enumerate(labelsInfo[:ID])\n",
    "        nameFile = \"$(path)/$(typeData)Resized/$(idImage).Bmp\"\n",
    "        img = load(nameFile)\n",
    "        temp = convert(Image{Gray}, img)\n",
    "        x[index, :] = reshape(temp, 1, imageSize)\n",
    "    end\n",
    "    return x\n",
    "end     "
   ]
  },
  {
   "cell_type": "code",
   "execution_count": 5,
   "metadata": {
    "collapsed": false,
    "scrolled": true
   },
   "outputs": [
    {
     "data": {
      "text/html": [
       "<table class=\"data-frame\"><thead><tr><th></th><th>ID</th><th>Class</th></tr></thead><tbody><tr><th>1</th><td>1</td><td>n</td></tr><tr><th>2</th><td>2</td><td>8</td></tr><tr><th>3</th><td>3</td><td>T</td></tr><tr><th>4</th><td>4</td><td>I</td></tr><tr><th>5</th><td>5</td><td>R</td></tr><tr><th>6</th><td>6</td><td>W</td></tr><tr><th>7</th><td>7</td><td>L</td></tr><tr><th>8</th><td>8</td><td>l</td></tr><tr><th>9</th><td>9</td><td>K</td></tr><tr><th>10</th><td>10</td><td>G</td></tr><tr><th>11</th><td>11</td><td>A</td></tr><tr><th>12</th><td>12</td><td>A</td></tr><tr><th>13</th><td>13</td><td>C</td></tr><tr><th>14</th><td>14</td><td>u</td></tr><tr><th>15</th><td>15</td><td>t</td></tr><tr><th>16</th><td>16</td><td>A</td></tr><tr><th>17</th><td>17</td><td>N</td></tr><tr><th>18</th><td>18</td><td>I</td></tr><tr><th>19</th><td>19</td><td>O</td></tr><tr><th>20</th><td>20</td><td>k</td></tr><tr><th>21</th><td>21</td><td>l</td></tr><tr><th>22</th><td>22</td><td>D</td></tr><tr><th>23</th><td>23</td><td>T</td></tr><tr><th>24</th><td>24</td><td>u</td></tr><tr><th>25</th><td>25</td><td>w</td></tr><tr><th>26</th><td>26</td><td>N</td></tr><tr><th>27</th><td>27</td><td>E</td></tr><tr><th>28</th><td>28</td><td>E</td></tr><tr><th>29</th><td>29</td><td>H</td></tr><tr><th>30</th><td>30</td><td>e</td></tr><tr><th>&vellip;</th><td>&vellip;</td><td>&vellip;</td></tr></tbody></table>"
      ],
      "text/plain": [
       "6283×2 DataFrames.DataFrame\n",
       "│ Row  │ ID   │ Class │\n",
       "├──────┼──────┼───────┤\n",
       "│ 1    │ 1    │ \"n\"   │\n",
       "│ 2    │ 2    │ \"8\"   │\n",
       "│ 3    │ 3    │ \"T\"   │\n",
       "│ 4    │ 4    │ \"I\"   │\n",
       "│ 5    │ 5    │ \"R\"   │\n",
       "│ 6    │ 6    │ \"W\"   │\n",
       "│ 7    │ 7    │ \"L\"   │\n",
       "│ 8    │ 8    │ \"l\"   │\n",
       "│ 9    │ 9    │ \"K\"   │\n",
       "│ 10   │ 10   │ \"G\"   │\n",
       "│ 11   │ 11   │ \"A\"   │\n",
       "⋮\n",
       "│ 6272 │ 6272 │ \"t\"   │\n",
       "│ 6273 │ 6273 │ \"S\"   │\n",
       "│ 6274 │ 6274 │ \"e\"   │\n",
       "│ 6275 │ 6275 │ \"l\"   │\n",
       "│ 6276 │ 6276 │ \"O\"   │\n",
       "│ 6277 │ 6277 │ \"R\"   │\n",
       "│ 6278 │ 6278 │ \"L\"   │\n",
       "│ 6279 │ 6279 │ \"N\"   │\n",
       "│ 6280 │ 6280 │ \"I\"   │\n",
       "│ 6281 │ 6281 │ \"P\"   │\n",
       "│ 6282 │ 6282 │ \"N\"   │\n",
       "│ 6283 │ 6283 │ \"R\"   │"
      ]
     },
     "execution_count": 5,
     "metadata": {},
     "output_type": "execute_result"
    }
   ],
   "source": [
    "labelsInfoTrain = readtable(\"$(path)/trainLabels.csv\")"
   ]
  },
  {
   "cell_type": "code",
   "execution_count": 6,
   "metadata": {
    "collapsed": true
   },
   "outputs": [
    {
     "data": {
      "text/plain": [
       "6283×400 Array{Float64,2}:\n",
       " 0.243137   0.25098    0.34902    …  0.278431   0.270588   0.278431 \n",
       " 0.462745   0.462745   0.462745      0.458824   0.454902   0.454902 \n",
       " 0.317647   0.384314   0.384314      0.372549   0.341176   0.305882 \n",
       " 0.301961   0.364706   0.560784      0.564706   0.572549   0.54902  \n",
       " 0.0862745  0.0862745  0.0823529     0.0705882  0.0745098  0.0745098\n",
       " 0.419608   0.419608   0.419608   …  0.407843   0.407843   0.415686 \n",
       " 0.286275   0.278431   0.278431      0.278431   0.278431   0.282353 \n",
       " 0.243137   0.203922   0.215686      0.243137   0.254902   0.254902 \n",
       " 0.247059   0.235294   0.235294      0.235294   0.239216   0.235294 \n",
       " 0.784314   0.784314   0.772549      0.964706   0.952941   0.945098 \n",
       " 0.364706   0.360784   0.356863   …  0.45098    0.439216   0.45098  \n",
       " 0.266667   0.254902   0.258824      0.270588   0.270588   0.262745 \n",
       " 0.235294   0.219608   0.219608      0.313725   0.196078   0.117647 \n",
       " ⋮                                ⋱                                 \n",
       " 0.615686   0.72549    0.72549       0.717647   0.717647   0.607843 \n",
       " 0.278431   0.313725   0.337255      0.439216   0.439216   0.356863 \n",
       " 0.643137   0.647059   0.627451      0.690196   0.682353   0.666667 \n",
       " 0.47451    0.47451    0.470588      0.388235   0.368627   0.364706 \n",
       " 0.54902    0.556863   0.556863   …  0.552941   0.556863   0.556863 \n",
       " 0.513725   0.509804   0.447059      0.486275   0.494118   0.494118 \n",
       " 0.341176   0.341176   0.341176      0.32549    0.317647   0.341176 \n",
       " 0.14902    0.113725   0.168627      0.352941   0.356863   0.172549 \n",
       " 0.658824   0.643137   0.505882      0.6        0.631373   0.639216 \n",
       " 0.427451   0.427451   0.427451   …  0.415686   0.415686   0.423529 \n",
       " 0.764706   0.760784   0.760784      0.235294   0.219608   0.321569 \n",
       " 0.537255   0.52549    0.529412      0.529412   0.533333   0.52549  "
      ]
     },
     "execution_count": 6,
     "metadata": {},
     "output_type": "execute_result"
    }
   ],
   "source": [
    "xTrain = read_data(\"train\", labelsInfoTrain, imageSize, path)"
   ]
  },
  {
   "cell_type": "code",
   "execution_count": 7,
   "metadata": {
    "collapsed": true
   },
   "outputs": [
    {
     "data": {
      "text/html": [
       "<table class=\"data-frame\"><thead><tr><th></th><th>ID</th><th>Class</th></tr></thead><tbody><tr><th>1</th><td>6284</td><td>A</td></tr><tr><th>2</th><td>6285</td><td>A</td></tr><tr><th>3</th><td>6286</td><td>A</td></tr><tr><th>4</th><td>6287</td><td>A</td></tr><tr><th>5</th><td>6288</td><td>A</td></tr><tr><th>6</th><td>6289</td><td>A</td></tr><tr><th>7</th><td>6290</td><td>A</td></tr><tr><th>8</th><td>6291</td><td>A</td></tr><tr><th>9</th><td>6292</td><td>A</td></tr><tr><th>10</th><td>6293</td><td>A</td></tr><tr><th>11</th><td>6294</td><td>A</td></tr><tr><th>12</th><td>6295</td><td>A</td></tr><tr><th>13</th><td>6296</td><td>A</td></tr><tr><th>14</th><td>6297</td><td>A</td></tr><tr><th>15</th><td>6298</td><td>A</td></tr><tr><th>16</th><td>6299</td><td>A</td></tr><tr><th>17</th><td>6300</td><td>A</td></tr><tr><th>18</th><td>6301</td><td>A</td></tr><tr><th>19</th><td>6302</td><td>A</td></tr><tr><th>20</th><td>6303</td><td>A</td></tr><tr><th>21</th><td>6304</td><td>A</td></tr><tr><th>22</th><td>6305</td><td>A</td></tr><tr><th>23</th><td>6306</td><td>A</td></tr><tr><th>24</th><td>6307</td><td>A</td></tr><tr><th>25</th><td>6308</td><td>A</td></tr><tr><th>26</th><td>6309</td><td>A</td></tr><tr><th>27</th><td>6310</td><td>A</td></tr><tr><th>28</th><td>6311</td><td>A</td></tr><tr><th>29</th><td>6312</td><td>A</td></tr><tr><th>30</th><td>6313</td><td>A</td></tr><tr><th>&vellip;</th><td>&vellip;</td><td>&vellip;</td></tr></tbody></table>"
      ],
      "text/plain": [
       "6220×2 DataFrames.DataFrame\n",
       "│ Row  │ ID    │ Class │\n",
       "├──────┼───────┼───────┤\n",
       "│ 1    │ 6284  │ \"A\"   │\n",
       "│ 2    │ 6285  │ \"A\"   │\n",
       "│ 3    │ 6286  │ \"A\"   │\n",
       "│ 4    │ 6287  │ \"A\"   │\n",
       "│ 5    │ 6288  │ \"A\"   │\n",
       "│ 6    │ 6289  │ \"A\"   │\n",
       "│ 7    │ 6290  │ \"A\"   │\n",
       "│ 8    │ 6291  │ \"A\"   │\n",
       "│ 9    │ 6292  │ \"A\"   │\n",
       "│ 10   │ 6293  │ \"A\"   │\n",
       "│ 11   │ 6294  │ \"A\"   │\n",
       "⋮\n",
       "│ 6209 │ 12492 │ \"A\"   │\n",
       "│ 6210 │ 12493 │ \"A\"   │\n",
       "│ 6211 │ 12494 │ \"A\"   │\n",
       "│ 6212 │ 12495 │ \"A\"   │\n",
       "│ 6213 │ 12496 │ \"A\"   │\n",
       "│ 6214 │ 12497 │ \"A\"   │\n",
       "│ 6215 │ 12498 │ \"A\"   │\n",
       "│ 6216 │ 12499 │ \"A\"   │\n",
       "│ 6217 │ 12500 │ \"A\"   │\n",
       "│ 6218 │ 12501 │ \"A\"   │\n",
       "│ 6219 │ 12502 │ \"A\"   │\n",
       "│ 6220 │ 12503 │ \"A\"   │"
      ]
     },
     "execution_count": 7,
     "metadata": {},
     "output_type": "execute_result"
    }
   ],
   "source": [
    "labelsInfoTest = readtable(\"$(path)/sampleSubmission.csv\")"
   ]
  },
  {
   "cell_type": "code",
   "execution_count": 8,
   "metadata": {
    "collapsed": false
   },
   "outputs": [
    {
     "data": {
      "text/plain": [
       "6220×400 Array{Float64,2}:\n",
       " 0.45098   0.447059  0.443137  0.443137  …  0.486275  0.482353  0.470588\n",
       " 0.282353  0.286275  0.309804  0.301961     0.431373  0.282353  0.294118\n",
       " 0.113725  0.152941  0.156863  0.156863     0.145098  0.145098  0.101961\n",
       " 0.592157  0.545098  0.564706  0.529412     0.556863  0.588235  0.592157\n",
       " 0.501961  0.52549   0.552941  0.564706     0.572549  0.588235  0.541176\n",
       " 0.552941  0.54902   0.54902   0.552941  …  0.533333  0.509804  0.501961\n",
       " 0.141176  0.180392  0.192157  0.176471     0.14902   0.164706  0.156863\n",
       " 0.862745  0.866667  0.843137  0.866667     0.862745  0.905882  0.882353\n",
       " 0.705882  0.694118  0.686275  0.698039     0.643137  0.670588  0.701961\n",
       " 0.866667  0.866667  0.866667  0.866667     0.878431  0.886275  0.905882\n",
       " 0.231373  0.2       0.203922  0.235294  …  0.215686  0.227451  0.239216\n",
       " 0.737255  0.74902   0.776471  0.780392     0.776471  0.780392  0.780392\n",
       " 0.47451   0.47451   0.494118  0.490196     0.454902  0.478431  0.478431\n",
       " ⋮                                       ⋱                              \n",
       " 0.603922  0.603922  0.611765  0.623529     0.164706  0.156863  0.262745\n",
       " 0.486275  0.478431  0.486275  0.486275     0.886275  0.521569  0.486275\n",
       " 0.333333  0.419608  0.470588  0.54902   …  0.423529  0.407843  0.4     \n",
       " 0.752941  0.709804  0.713725  0.717647     0.72549   0.713725  0.72549 \n",
       " 0.462745  0.47451   0.482353  0.470588     0.45098   0.45098   0.431373\n",
       " 0.25098   0.262745  0.254902  0.254902     0.258824  0.266667  0.258824\n",
       " 0.435294  0.431373  0.435294  0.419608     0.447059  0.439216  0.427451\n",
       " 0.521569  0.52549   0.521569  0.517647  …  0.509804  0.513725  0.505882\n",
       " 0.494118  0.576471  0.576471  0.576471     0.556863  0.584314  0.513725\n",
       " 0.329412  0.341176  0.345098  0.345098     0.32549   0.32549   0.313725\n",
       " 0.635294  0.611765  0.662745  0.635294     0.658824  0.576471  0.584314\n",
       " 0.403922  0.423529  0.396078  0.388235     0.505882  0.611765  0.392157"
      ]
     },
     "execution_count": 8,
     "metadata": {},
     "output_type": "execute_result"
    }
   ],
   "source": [
    "xTest = read_data(\"test\", labelsInfoTest, imageSize, path)"
   ]
  },
  {
   "cell_type": "code",
   "execution_count": 9,
   "metadata": {
    "collapsed": false
   },
   "outputs": [
    {
     "data": {
      "text/plain": [
       "6283-element DataArrays.DataArray{Any,1}:\n",
       " 'n'\n",
       " '8'\n",
       " 'T'\n",
       " 'I'\n",
       " 'R'\n",
       " 'W'\n",
       " 'L'\n",
       " 'l'\n",
       " 'K'\n",
       " 'G'\n",
       " 'A'\n",
       " 'A'\n",
       " 'C'\n",
       " ⋮  \n",
       " 't'\n",
       " 'S'\n",
       " 'e'\n",
       " 'l'\n",
       " 'O'\n",
       " 'R'\n",
       " 'L'\n",
       " 'N'\n",
       " 'I'\n",
       " 'P'\n",
       " 'N'\n",
       " 'R'"
      ]
     },
     "execution_count": 9,
     "metadata": {},
     "output_type": "execute_result"
    }
   ],
   "source": [
    "yTrain = map(x -> x[1], labelsInfoTrain[:Class])"
   ]
  },
  {
   "cell_type": "code",
   "execution_count": 18,
   "metadata": {
    "collapsed": false
   },
   "outputs": [
    {
     "data": {
      "text/plain": [
       "6283-element Array{Int64,1}:\n",
       " 110\n",
       "  56\n",
       "  84\n",
       "  73\n",
       "  82\n",
       "  87\n",
       "  76\n",
       " 108\n",
       "  75\n",
       "  71\n",
       "  65\n",
       "  65\n",
       "  67\n",
       "   ⋮\n",
       " 116\n",
       "  83\n",
       " 101\n",
       " 108\n",
       "  79\n",
       "  82\n",
       "  76\n",
       "  78\n",
       "  73\n",
       "  80\n",
       "  78\n",
       "  82"
      ]
     },
     "execution_count": 18,
     "metadata": {},
     "output_type": "execute_result"
    }
   ],
   "source": [
    "yTrain = map(Int, yTrain)\n",
    "yTrain = convert(Array{Int64,1},yTrain)"
   ]
  },
  {
   "cell_type": "code",
   "execution_count": 19,
   "metadata": {
    "collapsed": false,
    "scrolled": true
   },
   "outputs": [
    {
     "data": {
      "text/plain": [
       "Ensemble of Decision Trees\n",
       "Trees:      50\n",
       "Avg Leaves: 2193.5\n",
       "Avg Depth:  18.96"
      ]
     },
     "execution_count": 19,
     "metadata": {},
     "output_type": "execute_result"
    }
   ],
   "source": [
    "model = build_forest(yTrain, xTrain, 20, 50, 1.0)"
   ]
  },
  {
   "cell_type": "code",
   "execution_count": 20,
   "metadata": {
    "collapsed": true
   },
   "outputs": [
    {
     "data": {
      "text/plain": [
       "6220-element Array{Any,1}:\n",
       "  72\n",
       "  69\n",
       "  55\n",
       "  79\n",
       "  69\n",
       "  69\n",
       "  79\n",
       "  77\n",
       " 101\n",
       "  72\n",
       "  78\n",
       " 111\n",
       "  65\n",
       "   ⋮\n",
       "  65\n",
       "  65\n",
       "  65\n",
       "  67\n",
       "  69\n",
       "  84\n",
       "  69\n",
       "  79\n",
       "  69\n",
       "  82\n",
       "  78\n",
       "  77"
      ]
     },
     "execution_count": 20,
     "metadata": {},
     "output_type": "execute_result"
    }
   ],
   "source": [
    "predTest = apply_forest(model, xTest)"
   ]
  },
  {
   "cell_type": "code",
   "execution_count": 24,
   "metadata": {
    "collapsed": true
   },
   "outputs": [
    {
     "data": {
      "text/plain": [
       "6220-element Array{Char,1}:\n",
       " 'H'\n",
       " 'E'\n",
       " '7'\n",
       " 'O'\n",
       " 'E'\n",
       " 'E'\n",
       " 'O'\n",
       " 'M'\n",
       " 'e'\n",
       " 'H'\n",
       " 'N'\n",
       " 'o'\n",
       " 'A'\n",
       " ⋮  \n",
       " 'A'\n",
       " 'A'\n",
       " 'A'\n",
       " 'C'\n",
       " 'E'\n",
       " 'T'\n",
       " 'E'\n",
       " 'O'\n",
       " 'E'\n",
       " 'R'\n",
       " 'N'\n",
       " 'M'"
      ]
     },
     "execution_count": 24,
     "metadata": {},
     "output_type": "execute_result"
    }
   ],
   "source": [
    "labelsInfoTest[:Class] = map(Char, predTest)"
   ]
  },
  {
   "cell_type": "code",
   "execution_count": 25,
   "metadata": {
    "collapsed": true
   },
   "outputs": [],
   "source": [
    "writetable(\"$(path)/juliaSubmission.csv\", labelsInfoTest, separator=',', header=true)"
   ]
  },
  {
   "cell_type": "code",
   "execution_count": 26,
   "metadata": {
    "collapsed": false
   },
   "outputs": [
    {
     "name": "stdout",
     "output_type": "stream",
     "text": [
      "\n",
      "Fold 1\n",
      "Classes:  "
     ]
    },
    {
     "data": {
      "text/plain": [
       "62×62 Array{Int64,2}:\n",
       " 2  0  0  0  0  0  0  0  0  0   1  0  …  1  0  0  0  0  0  0  0  0  0  0  0\n",
       " 0  7  0  0  0  0  0  0  0  0   2  0     0  0  0  0  0  0  0  0  0  0  0  0\n",
       " 0  1  7  0  0  0  0  0  0  0   1  0     0  0  0  0  0  2  0  0  0  0  0  0\n",
       " 0  0  0  4  0  0  0  0  0  0   1  0     0  0  0  0  0  0  0  0  0  0  0  0\n",
       " 0  0  0  0  1  0  0  0  0  0   3  0     0  0  0  0  0  0  0  0  0  0  0  0\n",
       " 0  0  0  0  0  0  0  0  0  0   2  0  …  0  0  0  0  0  0  0  0  0  0  0  0\n",
       " 0  0  0  0  0  0  0  0  0  0   1  0     0  0  0  0  1  0  0  0  0  0  0  0\n",
       " 0  0  0  0  0  0  0  5  0  0   0  0     0  0  0  0  0  0  0  0  0  0  0  0\n",
       " 0  0  0  0  0  0  0  0  0  0   0  0     1  0  0  0  0  0  0  0  0  0  0  0\n",
       " 0  0  0  1  0  0  0  0  0  0   2  0     0  0  0  0  0  0  0  0  0  0  0  0\n",
       " 0  0  0  0  0  0  0  0  0  0  96  1  …  0  0  0  1  0  0  0  0  0  0  0  0\n",
       " 0  0  0  0  0  1  0  0  0  0   2  2     0  0  0  0  0  0  0  0  0  0  0  0\n",
       " 0  0  0  0  0  0  0  0  0  0   0  0     0  0  0  0  0  1  0  0  0  0  0  0\n",
       " ⋮              ⋮               ⋮     ⋱  ⋮              ⋮              ⋮   \n",
       " 0  0  0  0  0  0  0  0  0  0   2  0  …  3  0  0  0  0  0  0  0  0  0  0  0\n",
       " 0  0  0  0  0  0  0  0  0  0   1  0     0  0  0  0  0  0  0  0  0  0  0  0\n",
       " 0  0  0  0  0  0  0  0  0  0   1  0     0  0  0  0  0  0  0  0  0  0  0  0\n",
       " 0  0  0  0  0  0  0  0  0  0   1  0     0  0  0  8  0  1  0  0  0  0  0  0\n",
       " 0  0  0  0  0  0  0  0  0  0   0  0     0  0  0  0  1  0  0  0  0  0  0  0\n",
       " 0  1  0  0  0  1  0  0  0  0   0  0  …  0  0  0  1  0  4  0  0  0  0  0  0\n",
       " 0  0  0  0  0  0  0  0  0  0   0  0     0  0  0  0  0  0  0  0  0  0  0  0\n",
       " 0  0  0  0  0  0  0  0  0  0   1  0     0  0  0  1  0  0  0  1  0  0  0  0\n",
       " 0  0  0  0  0  0  0  0  0  0   0  0     0  0  0  2  0  0  0  0  0  0  0  0\n",
       " 0  0  0  0  0  0  0  0  0  0   0  0     0  0  0  0  0  0  0  0  0  0  0  0\n",
       " 0  0  0  0  0  0  0  0  0  0   0  0  …  0  0  0  0  0  1  0  0  0  0  0  0\n",
       " 0  0  0  0  0  0  0  0  0  0   0  0     0  0  0  0  0  0  0  0  0  0  0  0"
      ]
     },
     "metadata": {},
     "output_type": "display_data"
    },
    {
     "name": "stdout",
     "output_type": "stream",
     "text": [
      "Any[48,49,50,51,52,53,54,55,56,57,65,66,67,68,69,70,71,72,73,74,75,76,77,78,79,80,81,82,83,84,85,86,87,88,89,90,97,98,99,100,101,102,103,104,105,106,107,108,109,110,111,112,113,114,115,116,117,118,119,120,121,122]\n",
      "Matrix:   \n",
      "Accuracy: 0.43248407643312103\n",
      "Kappa:    0.4077352978534231\n"
     ]
    },
    {
     "data": {
      "text/plain": [
       "62×62 Array{Int64,2}:\n",
       " 3  0  0  0  0  0  0  0  0  0   4  0  …  1  0  0   0  0  0  0  0  0  0  0  0\n",
       " 0  4  0  0  0  0  0  0  0  0   0  0     0  0  0   0  0  0  0  0  0  0  0  0\n",
       " 0  0  3  0  0  0  0  0  0  0   1  0     0  0  0   0  0  0  0  0  0  0  0  0\n",
       " 0  0  0  2  0  0  0  0  0  0   0  1     0  0  0   0  0  0  0  0  0  0  0  0\n",
       " 0  0  0  0  0  0  0  0  0  0   4  0     0  0  0   0  0  0  0  0  0  0  0  0\n",
       " 0  0  0  0  0  1  0  0  0  0   2  0  …  0  0  0   0  1  0  0  0  0  0  0  0\n",
       " 0  0  0  0  0  0  3  0  0  0   4  0     0  0  0   0  0  0  0  0  0  0  0  0\n",
       " 0  1  0  0  0  0  0  3  0  0   1  0     0  0  0   0  0  0  0  0  0  0  0  0\n",
       " 0  1  0  0  0  0  0  0  0  0   0  1     0  0  0   0  0  0  0  0  0  0  0  0\n",
       " 0  0  0  0  0  0  0  0  0  2   0  0     0  0  0   0  0  0  0  0  0  0  0  0\n",
       " 0  0  0  0  0  0  0  0  0  1  99  1  …  0  0  0   1  0  0  0  0  0  0  0  0\n",
       " 0  0  0  0  0  0  0  0  0  0   6  3     0  0  0   1  0  0  0  0  0  0  0  0\n",
       " 0  0  0  0  0  0  0  0  0  0   0  0     1  0  0   0  1  0  0  0  0  0  0  0\n",
       " ⋮              ⋮               ⋮     ⋱  ⋮               ⋮              ⋮   \n",
       " 2  0  0  0  0  0  0  0  0  0   3  0  …  3  0  0   2  0  0  0  0  0  0  0  0\n",
       " 0  0  0  0  0  0  0  0  0  0   4  0     0  0  0   0  0  0  0  0  0  0  0  0\n",
       " 0  0  0  0  0  0  0  0  0  0   2  0     0  0  0   0  0  0  0  0  0  0  0  0\n",
       " 0  0  0  0  0  0  0  0  0  0   0  0     0  0  0  13  0  1  0  0  0  0  0  0\n",
       " 0  0  0  0  0  0  0  0  0  0   1  0     0  0  0   0  2  0  0  0  0  0  0  0\n",
       " 0  0  0  0  0  0  0  0  0  0   1  0  …  0  0  0   3  0  8  0  0  0  0  0  0\n",
       " 0  0  0  0  0  0  0  0  0  0   1  0     0  0  0   0  0  0  0  0  0  0  0  0\n",
       " 0  0  0  0  0  0  0  0  0  0   0  0     0  0  0   0  0  0  0  0  0  0  0  0\n",
       " 0  0  0  0  0  0  0  0  0  0   0  0     0  0  0   0  0  0  0  0  1  0  0  0\n",
       " 0  0  0  0  0  0  0  0  0  0   1  0     0  0  0   0  0  0  0  0  0  0  0  0\n",
       " 0  0  0  0  0  0  0  0  0  0   1  0  …  0  0  0   0  0  0  0  0  0  0  0  0\n",
       " 0  0  0  0  0  0  0  0  0  0   0  0     0  0  0   2  0  0  0  0  0  0  0  0"
      ]
     },
     "metadata": {},
     "output_type": "display_data"
    },
    {
     "name": "stdout",
     "output_type": "stream",
     "text": [
      "\n",
      "Fold 2\n",
      "Classes:  Any[48,49,50,51,52,53,54,55,56,57,65,66,67,68,69,70,71,72,73,74,75,76,77,78,79,80,81,82,83,84,85,86,87,88,89,90,97,98,99,100,101,102,103,104,105,106,107,108,109,110,111,112,113,114,115,116,117,118,119,120,121,122]\n",
      "Matrix:   \n",
      "Accuracy: 0.4394904458598726\n",
      "Kappa:    0.4146687832812865\n",
      "\n",
      "Fold 3"
     ]
    },
    {
     "data": {
      "text/plain": [
       "62×62 Array{Int64,2}:\n",
       " 2  0  0  0  0  0  1  0  0  0   4  0  …  0  0   0  0   0  0  0  0  0  0  0\n",
       " 0  3  0  0  0  0  0  0  0  0   0  0     0  0   0  0   0  0  0  0  0  0  0\n",
       " 0  0  1  0  0  0  0  0  0  0   2  0     0  0   0  0   0  0  0  0  0  0  0\n",
       " 0  0  0  2  0  0  0  0  0  0   0  0     0  0   0  0   0  0  0  0  0  0  0\n",
       " 0  0  0  0  1  0  0  0  0  0   6  0     0  0   0  0   0  0  0  0  0  0  0\n",
       " 0  0  0  0  0  0  1  0  0  0   2  1  …  0  0   0  0   0  0  0  0  0  0  0\n",
       " 0  0  0  0  0  0  3  0  0  0   0  1     0  0   0  0   0  0  0  0  0  0  0\n",
       " 0  0  1  0  0  0  0  2  0  0   0  0     0  0   0  0   0  0  0  0  0  0  0\n",
       " 0  0  0  0  0  0  0  0  1  0   0  0     0  0   0  0   0  0  0  0  0  0  0\n",
       " 0  0  0  0  0  0  0  0  0  2   0  0     0  0   0  0   0  0  0  0  0  0  0\n",
       " 0  0  0  0  0  0  0  0  0  0  96  0  …  0  0   0  0   0  0  0  0  0  0  0\n",
       " 0  0  0  0  0  0  0  0  0  0   5  4     0  0   0  0   0  0  0  0  0  0  0\n",
       " 0  1  0  0  0  0  0  0  0  0   3  0     0  0   1  0   0  0  0  0  0  1  0\n",
       " ⋮              ⋮               ⋮     ⋱                ⋮              ⋮   \n",
       " 3  0  0  0  0  0  0  0  0  0   3  0  …  0  0   0  0   0  0  0  0  0  0  0\n",
       " 0  0  0  0  0  0  0  0  0  0   0  1     0  0   0  0   0  0  0  0  0  0  0\n",
       " 0  0  0  0  0  0  0  0  0  0   4  0     0  0   0  0   0  0  0  0  0  0  0\n",
       " 0  0  0  0  0  0  0  0  0  0   4  0     0  0  10  0   2  0  0  0  0  0  0\n",
       " 0  0  0  0  0  0  0  0  0  0   2  0     0  0   0  5   0  0  0  0  0  0  0\n",
       " 0  0  0  0  0  0  0  0  0  0   1  0  …  0  0   2  0  11  0  0  0  0  0  0\n",
       " 0  0  0  0  0  0  0  0  0  0   0  1     0  0   0  0   0  0  0  0  0  0  0\n",
       " 0  0  0  0  0  0  0  0  0  0   1  0     0  0   0  0   0  0  0  0  0  0  0\n",
       " 0  1  0  0  0  0  0  0  0  0   3  0     0  0   0  0   0  0  0  0  0  0  0\n",
       " 0  0  0  0  0  0  0  0  0  0   1  0     0  0   0  0   0  0  0  0  0  0  0\n",
       " 0  0  0  0  0  0  0  0  0  0   0  0  …  0  0   1  0   0  0  1  0  0  0  0\n",
       " 0  0  0  0  0  0  0  0  0  0   2  0     0  0   0  0   0  0  0  0  0  0  0"
      ]
     },
     "metadata": {},
     "output_type": "display_data"
    },
    {
     "name": "stdout",
     "output_type": "stream",
     "text": [
      "\n",
      "Classes:  Any[48,49,50,51,52,53,54,55,56,57,65,66,67,68,69,70,71,72,73,74,75,76,77,78,79,80,81,82,83,84,85,86,87,88,89,90,97,98,99,100,101,102,103,104,105,106,107,108,109,110,111,112,113,114,115,116,117,118,119,120,121,122]\n",
      "Matrix:   \n",
      "Accuracy: 0.4356687898089172\n",
      "Kappa:    0.41068587805906187\n",
      "\n",
      "Fold 4\n",
      "Classes:  "
     ]
    },
    {
     "data": {
      "text/plain": [
       "62×62 Array{Int64,2}:\n",
       " 4  0  0  0  0  0  0  0  0  0   0  0  …  2  0  0   0  0  0  0  0  0  0  0  0\n",
       " 0  3  0  0  1  0  0  0  0  0   0  0     0  0  0   0  0  0  0  0  0  0  0  0\n",
       " 0  0  3  0  0  0  0  0  0  0   5  0     0  0  0   0  0  1  0  0  0  0  0  0\n",
       " 0  0  0  2  0  0  0  0  0  0   2  0     0  0  0   0  0  0  0  0  0  0  0  0\n",
       " 0  0  0  0  0  0  0  0  0  0   4  0     0  0  0   0  0  0  0  0  0  0  0  0\n",
       " 0  0  0  0  0  1  0  0  0  0   0  0  …  0  0  0   0  0  0  0  0  0  0  0  0\n",
       " 0  0  0  0  0  0  3  0  0  0   0  0     0  0  0   0  0  0  0  0  0  0  0  0\n",
       " 0  0  0  0  0  0  0  3  0  1   0  0     0  0  0   0  0  0  0  0  0  0  0  0\n",
       " 0  0  0  0  0  0  1  0  0  0   0  0     0  0  0   0  0  0  0  0  0  0  0  0\n",
       " 0  0  0  0  0  0  0  0  0  0   0  0     0  0  0   1  0  0  0  0  0  0  0  0\n",
       " 0  0  0  0  0  0  0  0  0  0  88  0  …  2  0  0   0  0  0  0  0  0  0  0  0\n",
       " 0  0  0  0  0  0  0  0  0  0   5  1     0  0  0   1  0  0  0  0  0  0  0  0\n",
       " 0  0  0  0  0  0  0  0  0  0   1  0     0  0  0   1  0  1  0  0  0  0  0  0\n",
       " ⋮              ⋮               ⋮     ⋱  ⋮               ⋮              ⋮   \n",
       " 1  0  0  0  0  0  0  0  0  0   0  0  …  5  0  0   0  0  0  0  0  0  0  0  0\n",
       " 0  0  0  0  0  0  0  0  0  0   0  0     0  0  0   0  0  0  0  0  0  0  0  0\n",
       " 0  0  0  0  0  0  0  0  0  0   1  0     0  0  0   1  0  0  0  0  0  0  0  0\n",
       " 0  0  0  0  1  0  0  0  0  0   1  0     0  0  0  13  0  0  0  0  0  0  1  0\n",
       " 0  0  0  0  0  0  0  0  0  0   2  0     0  0  0   0  0  0  0  0  0  0  0  0\n",
       " 0  0  0  0  0  0  0  0  0  0   0  0  …  0  0  0   2  0  4  0  0  0  0  0  0\n",
       " 0  0  0  0  0  0  0  0  0  0   1  0     1  0  0   0  0  0  0  0  0  0  0  0\n",
       " 0  0  0  0  0  0  0  0  0  0   0  0     0  0  0   0  0  0  0  1  0  0  0  0\n",
       " 0  0  0  0  0  0  0  0  0  0   1  0     0  0  0   0  0  0  0  0  0  0  0  0\n",
       " 0  0  0  0  0  0  0  0  0  0   2  0     0  0  0   0  0  0  0  0  0  0  0  0\n",
       " 0  0  0  0  0  0  0  0  0  0   2  0  …  0  0  0   0  0  0  0  0  0  0  1  0\n",
       " 0  0  0  0  0  0  0  0  0  0   1  0     0  0  0   0  0  0  0  0  0  0  0  0"
      ]
     },
     "metadata": {},
     "output_type": "display_data"
    },
    {
     "name": "stdout",
     "output_type": "stream",
     "text": [
      "Any[48,49,50,51,52,53,54,55,56,57,65,66,67,68,69,70,71,72,73,74,75,76,77,78,79,80,81,82,83,84,85,86,87,88,89,90,97,98,99,100,101,102,103,104,105,106,107,108,109,110,111,112,113,114,115,116,117,118,119,120,121,122]\n",
      "Matrix:   \n",
      "Accuracy: 0.41337579617834397\n",
      "Kappa:    0.3873621112465025\n",
      "\n",
      "Mean Accuracy: 0.4302547770700637\n"
     ]
    }
   ],
   "source": [
    "accuracy = nfoldCV_forest(yTrain, xTrain, 20, 50, 4, 1.0);"
   ]
  },
  {
   "cell_type": "code",
   "execution_count": 34,
   "metadata": {
    "collapsed": false
   },
   "outputs": [
    {
     "name": "stdout",
     "output_type": "stream",
     "text": [
      "4 fold accuracy: 0.4302547770700637\n"
     ]
    }
   ],
   "source": [
    "println(\"4 fold accuracy: $(mean(accuracy))\")"
   ]
  },
  {
   "cell_type": "code",
   "execution_count": 29,
   "metadata": {
    "collapsed": false
   },
   "outputs": [
    {
     "data": {
      "text/plain": [
       "0.4302547770700637"
      ]
     },
     "execution_count": 29,
     "metadata": {},
     "output_type": "execute_result"
    }
   ],
   "source": [
    "mean(accuracy)"
   ]
  },
  {
   "cell_type": "code",
   "execution_count": null,
   "metadata": {
    "collapsed": true
   },
   "outputs": [],
   "source": []
  }
 ],
 "metadata": {
  "kernelspec": {
   "display_name": "Julia 0.5.0",
   "language": "julia",
   "name": "julia-0.5"
  },
  "language_info": {
   "file_extension": ".jl",
   "mimetype": "application/julia",
   "name": "julia",
   "version": "0.5.0"
  }
 },
 "nbformat": 4,
 "nbformat_minor": 2
}
